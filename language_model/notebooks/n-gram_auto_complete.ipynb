{
 "cells": [
  {
   "cell_type": "code",
   "execution_count": 21,
   "metadata": {},
   "outputs": [],
   "source": [
    "import pandas as pd\n",
    "import numpy as np\n",
    "import nltk\n",
    "\n",
    "import random\n",
    "\n",
    "import matplotlib.pyplot as plt"
   ]
  },
  {
   "cell_type": "code",
   "execution_count": 17,
   "metadata": {},
   "outputs": [
    {
     "name": "stderr",
     "output_type": "stream",
     "text": [
      "[nltk_data] Downloading package punkt to\n",
      "[nltk_data]     C:\\Users\\mukes\\AppData\\Roaming\\nltk_data...\n",
      "[nltk_data]   Unzipping tokenizers\\punkt.zip.\n"
     ]
    },
    {
     "data": {
      "text/plain": [
       "True"
      ]
     },
     "execution_count": 17,
     "metadata": {},
     "output_type": "execute_result"
    }
   ],
   "source": [
    "nltk.download('punkt')"
   ]
  },
  {
   "cell_type": "code",
   "execution_count": 36,
   "metadata": {},
   "outputs": [],
   "source": [
    "with open(\"../../data/en_US.twitter.txt\", \"r\", encoding=\"utf8\") as f:\n",
    "    data = f.read()"
   ]
  },
  {
   "cell_type": "code",
   "execution_count": 14,
   "metadata": {},
   "outputs": [],
   "source": [
    "def tokenize_sentence(corpus):\n",
    "    \"\"\"\n",
    "    Tokenize sentences in corpus\n",
    "        Input:\n",
    "            corpus: large text\n",
    "        Output:\n",
    "            tokenized_sentences: 2D list of tokens \n",
    "    \"\"\"\n",
    "    tokenized_sentences = []\n",
    "    sentences = corpus.split('\\n')\n",
    "\n",
    "    for sentence in sentences:\n",
    "        sentence = sentence.lower()\n",
    "        tokenized = nltk.tokenize.word_tokenize(sentence)\n",
    "        tokenized_sentences.append(tokenized)\n",
    "    return tokenized_sentences"
   ]
  },
  {
   "cell_type": "code",
   "execution_count": 37,
   "metadata": {},
   "outputs": [],
   "source": [
    "tokenized_data = tokenize_sentence(data)\n",
    "random.seed(32)\n",
    "random.shuffle(tokenized_data)\n",
    "\n",
    "train_size = int(len(tokenized_data) * 0.8)\n",
    "train_data = tokenized_data[0:train_size]\n",
    "test_data = tokenized_data[train_size:]"
   ]
  },
  {
   "cell_type": "code",
   "execution_count": 38,
   "metadata": {},
   "outputs": [],
   "source": [
    "def count_words(tokenized_sentences):\n",
    "    \"\"\"\n",
    "    Creates a word count dict out of tokenized sentences\n",
    "        Input:\n",
    "            tokenized_sentences: list of list of words\n",
    "        Output:\n",
    "            word_counts: word count dictionary\n",
    "    \"\"\"\n",
    "    word_counts = {}\n",
    "\n",
    "    for sentence in tokenized_sentences:\n",
    "        for word in sentence:\n",
    "            if word in word_counts:\n",
    "                word_counts[word]+=1\n",
    "            else:\n",
    "                word_counts[word]=1\n",
    "    return word_counts"
   ]
  },
  {
   "cell_type": "code",
   "execution_count": 39,
   "metadata": {},
   "outputs": [],
   "source": [
    "word_counts = count_words(tokenized_data)"
   ]
  },
  {
   "cell_type": "code",
   "execution_count": null,
   "metadata": {},
   "outputs": [
    {
     "data": {
      "text/plain": [
       "(array([929., 175.,  83.,  53.,  30.,  24.,  17.,  18.,   6.,  12.]),\n",
       " array([ 2000.,  6800., 11600., 16400., 21200., 26000., 30800., 35600.,\n",
       "        40400., 45200., 50000.]),\n",
       " <a list of 10 Patch objects>)"
      ]
     },
     "execution_count": 44,
     "metadata": {},
     "output_type": "execute_result"
    },
    {
     "data": {
      "image/png": "[encoded data removed]",
      "text/plain": [
       "<Figure size 432x288 with 1 Axes>"
      ]
     },
     "metadata": {
      "needs_background": "light"
     },
     "output_type": "display_data"
    }
   ],
   "source": [
    "plt.hist(word_counts.values(), range=(2000, 50000))\n",
    "plt.show()"
   ]
  },
  {
   "cell_type": "code",
   "execution_count": 116,
   "metadata": {},
   "outputs": [
    {
     "data": {
      "text/plain": [
       "(505137, 32353)"
      ]
     },
     "execution_count": 116,
     "metadata": {},
     "output_type": "execute_result"
    }
   ],
   "source": [
    "len(word_counts), sum([1 for val in word_counts.values() if val>20])"
   ]
  },
  {
   "cell_type": "code",
   "execution_count": 46,
   "metadata": {},
   "outputs": [],
   "source": [
    "def get_closed_vocab(tokenized_data, threshold):\n",
    "    \"\"\"\n",
    "    Function to create list of words with freq greater than threshold\n",
    "        Input:\n",
    "            tokenized_data: list of tokenized sentences\n",
    "            threshold: int value used as cut off\n",
    "        Output:\n",
    "            closed_vocab: list of words with freq greater than threshold\n",
    "    \"\"\"\n",
    "    closed_vocab = []\n",
    "    word_counts = count_words(tokenized_data)\n",
    "    for word, count in word_counts.items():\n",
    "        if count>=threshold:\n",
    "            closed_vocab.append(word)\n",
    "    return closed_vocab"
   ]
  },
  {
   "cell_type": "code",
   "execution_count": 49,
   "metadata": {},
   "outputs": [],
   "source": [
    "def replace_oov(tokenized_sentences, vocab, unk_token='<unk>'):\n",
    "    \"\"\"\n",
    "    Function to replace out of vocabulary words from the tokenized sentences\n",
    "        Input:\n",
    "            tokenized_sentences: list of tokenized sentences\n",
    "            vocab: list of closed vocab of words\n",
    "            unk_token: token used to replace oov words\n",
    "        Output:\n",
    "            replaced_tokenized_sentences: updated tokenized_sentences\n",
    "    \"\"\"\n",
    "    vocabulary = set(vocab)\n",
    "    replaced_tokenized_sentences = []\n",
    "\n",
    "    for sentence in tokenized_sentences:\n",
    "        replaced_sentence = []\n",
    "        for token in sentence:\n",
    "            if token in vocabulary:\n",
    "                replaced_sentence.append(token)\n",
    "            else:\n",
    "                replaced_sentence.append(unk_token)\n",
    "        replaced_tokenized_sentences.append(replaced_sentence)\n",
    "\n",
    "    return replaced_tokenized_sentences"
   ]
  },
  {
   "cell_type": "code",
   "execution_count": 47,
   "metadata": {},
   "outputs": [],
   "source": [
    "def preprocess_data(train_data, test_data, count_threshold):\n",
    "    \"\"\"\n",
    "    Helper function to process tokenized data from closed vocabulary\n",
    "        Input:\n",
    "            train_data: tokenized train data\n",
    "            test_data: tokenized test data\n",
    "            count_threshold: word count used to generate closed vocab\n",
    "        Output:\n",
    "            train_data_replaced: processed train data\n",
    "            test_data_replaced: processed test data\n",
    "            vocabulary: closed vocab of words\n",
    "    \"\"\"\n",
    "    vocabulary = get_closed_vocab(tokenized_data, count_threshold)\n",
    "    train_data_replaced = replace_oov(train_data, vocabulary)\n",
    "    test_data_replaced = replace_oov(test_data, vocabulary)\n",
    "    \n",
    "    return train_data_replaced, test_data_replaced, vocabulary"
   ]
  },
  {
   "cell_type": "code",
   "execution_count": 50,
   "metadata": {},
   "outputs": [],
   "source": [
    "minimum_freq = 2\n",
    "train_data_processed, test_data_processed, vocabulary = preprocess_data(train_data, test_data, minimum_freq)"
   ]
  },
  {
   "cell_type": "code",
   "execution_count": null,
   "metadata": {},
   "outputs": [],
   "source": []
  },
  {
   "cell_type": "markdown",
   "metadata": {},
   "source": [
    "# N-gram"
   ]
  },
  {
   "cell_type": "code",
   "execution_count": 51,
   "metadata": {},
   "outputs": [],
   "source": [
    "def count_n_grams(data, n, start_token='<s>', end_token='<e>'):\n",
    "    \"\"\"\n",
    "    Generate n-gram freq dict\n",
    "        Input:\n",
    "            data: list of tokenized seq of words \n",
    "            n: value of n to calculate n-grams\n",
    "            start_token: token to append at the start of sentence\n",
    "            end_token: token to append at the end of sentence\n",
    "        Output:\n",
    "            n_grams: n_gram dict\n",
    "            \n",
    "    \"\"\"\n",
    "    n_grams = {}\n",
    "\n",
    "    for sentence in data:\n",
    "        sentence = [start_token]*n+sentence+[end_token]\n",
    "\n",
    "        sentence = tuple(sentence)\n",
    "\n",
    "        m = len(sentence) if n==1 else len(sentence)-1\n",
    "        for i in range(m):\n",
    "            n_gram = sentence[i:i+n]\n",
    "\n",
    "            if n_gram in n_grams:\n",
    "                n_grams[n_gram] += 1\n",
    "            else:\n",
    "                n_grams[n_gram] = 1\n",
    "    return n_grams"
   ]
  },
  {
   "cell_type": "code",
   "execution_count": 69,
   "metadata": {},
   "outputs": [],
   "source": [
    "def estimate_prob(word, prev_n_gram, n_gram_counts, n_plus1_gram_counts, vocab_size, k=1):\n",
    "    \"\"\"\n",
    "    Generate prob of next word based on n and n+1 gram counts\n",
    "        Input:\n",
    "            word: next word prob to calculate\n",
    "            prev_n_gram: tuple of words of length n\n",
    "            n_gram_counts: dict of n_grams and it freq\n",
    "            n_plus1_gram_counts: dict of nplus1_grams and it freq\n",
    "            vocab_size: len of vocabulary\n",
    "            k: constant for smoothning\n",
    "        Output:\n",
    "            prob: next word probability\n",
    "            \n",
    "    \"\"\"\n",
    "    prev_n_gram = tuple(prev_n_gram)\n",
    "\n",
    "    prev_n_gram_count = n_gram_counts.get(prev_n_gram, 0)\n",
    "    denominator = prev_n_gram_count + vocab_size*k\n",
    "\n",
    "    n_plus1_gram = prev_n_gram+(word,)\n",
    "\n",
    "    n_plus1_gram_count = n_plus1_gram_counts.get(n_plus1_gram, 0)\n",
    "    numerator = n_plus1_gram_count+k\n",
    "\n",
    "    prob = numerator/denominator\n",
    "\n",
    "    return prob"
   ]
  },
  {
   "cell_type": "code",
   "execution_count": 53,
   "metadata": {},
   "outputs": [],
   "source": [
    "def estimate_prob_vocab(prev_n_gram, n_gram_counts, n_plus1_gram_counts, vocabulary, k=1):\n",
    "    \"\"\"\n",
    "    Generate prob of words from vocabulary based on n and n+1 gram counts\n",
    "        Input:\n",
    "            prev_n_gram: tuple of words of length n\n",
    "            n_gram_counts: dict of n_grams and it freq\n",
    "            n_plus1_gram_counts: dict of nplus1_grams and it freq\n",
    "            vocabulary: closed vocab list of words\n",
    "            k: constant for smoothning\n",
    "        Output:\n",
    "            probabilities: dict of vocabulary and their word probs\n",
    "            \n",
    "    \"\"\"\n",
    "    prev_n_gram = tuple(prev_n_gram)\n",
    "    vocabulary = vocabulary+['<s>', '<e>']\n",
    "    vocab_size = len(vocabulary)\n",
    "\n",
    "    probabilities = {}\n",
    "    for word in vocabulary:\n",
    "        prob = estimate_prob(word, prev_n_gram, n_gram_counts, n_plus1_gram_counts, vocab_size, k=k)\n",
    "\n",
    "        probabilities[word] = prob\n",
    "    return probabilities    "
   ]
  },
  {
   "cell_type": "code",
   "execution_count": 109,
   "metadata": {},
   "outputs": [],
   "source": [
    "def generate_seq(n_gram_counts, n_plus1_gram_counts, vocabulary, init_word='<s>', max_len=10, k=1, estimate_prob_vocab=estimate_prob_vocab):\n",
    "    \"\"\"\n",
    "    Helper fuction to generate sequence of words\n",
    "        Input:\n",
    "            n_gram_counts: dict of n_grams and it freq\n",
    "            n_plus1_gram_counts: dict of nplus1_grams and it freq\n",
    "            vocabulary: closed vocab list of words\n",
    "            init_word: any random word to initialize the seq\n",
    "            max_len: max len of the seq generated\n",
    "            k: constant for smoothning\n",
    "            estimate_prob_vocab: function to generate probs of the next words from vocab\n",
    "        Output:\n",
    "            gen_sentence: generated sequence of words\n",
    "            \n",
    "    \"\"\"\n",
    "    n = len(list(n_gram_counts.keys())[0])-1\n",
    "    prev_word = ['<s>']*n+[init_word]\n",
    "    prev_n_gram = tuple(prev_word)\n",
    "\n",
    "    i=0\n",
    "    gen_sentence = [init_word]\n",
    "\n",
    "    while i < max_len:\n",
    "        probabilities = estimate_prob_vocab(prev_n_gram, n_gram_counts, n_plus1_gram_counts, vocabulary, k=k)\n",
    "\n",
    "        sorted_probs = sorted(probabilities.items(), key=lambda x: x[1], reverse=True)\n",
    "        word = sorted_probs[0][0]\n",
    "\n",
    "        if word == prev_n_gram[-1]:\n",
    "            word = sorted_probs[1][0]\n",
    "\n",
    "        if word == '<e>':\n",
    "            break\n",
    "\n",
    "        gen_sentence = gen_sentence+[word]\n",
    "        prev_n_gram = prev_n_gram[1:]+(word,)\n",
    "\n",
    "        i+=1\n",
    "    print(' '.join(gen_sentence))"
   ]
  },
  {
   "cell_type": "code",
   "execution_count": 113,
   "metadata": {},
   "outputs": [
    {
     "name": "stdout",
     "output_type": "stream",
     "text": [
      "where are you ?\n"
     ]
    }
   ],
   "source": [
    "bi_gram = count_n_grams(train_data_processed, 2)\n",
    "tri_gram = count_n_grams(train_data_processed, 3)\n",
    "\n",
    "generate_seq(bi_gram, tri_gram, vocabulary, init_word='where')"
   ]
  },
  {
   "cell_type": "code",
   "execution_count": 114,
   "metadata": {},
   "outputs": [
    {
     "name": "stdout",
     "output_type": "stream",
     "text": [
      "how many times i 've been waiting for the follow !\n"
     ]
    }
   ],
   "source": [
    "five_gram = count_n_grams(train_data_processed, 2)\n",
    "six_gram = count_n_grams(train_data_processed, 3)\n",
    "\n",
    "generate_seq(five_gram, six_gram, vocabulary, init_word='how')"
   ]
  },
  {
   "cell_type": "code",
   "execution_count": null,
   "metadata": {},
   "outputs": [],
   "source": []
  }
 ],
 "metadata": {
  "kernelspec": {
   "display_name": "Python 3.7.3 ('base')",
   "language": "python",
   "name": "python3"
  },
  "language_info": {
   "codemirror_mode": {
    "name": "ipython",
    "version": 3
   },
   "file_extension": ".py",
   "mimetype": "text/x-python",
   "name": "python",
   "nbconvert_exporter": "python",
   "pygments_lexer": "ipython3",
   "version": "3.7.3"
  },
  "orig_nbformat": 4,
  "vscode": {
   "interpreter": {
    "hash": "fb096cfdeb01fd1749b10f5bab37c08591e7b8a2cd3a8f8d54a9b4aa87469879"
   }
  }
 },
 "nbformat": 4,
 "nbformat_minor": 2
}
